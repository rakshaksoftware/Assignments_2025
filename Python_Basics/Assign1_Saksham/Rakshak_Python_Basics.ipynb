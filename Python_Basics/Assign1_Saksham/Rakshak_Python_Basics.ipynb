{
  "nbformat": 4,
  "nbformat_minor": 0,
  "metadata": {
    "colab": {
      "provenance": []
    },
    "kernelspec": {
      "name": "python3",
      "display_name": "Python 3"
    },
    "language_info": {
      "name": "python"
    }
  },
  "cells": [
    {
      "cell_type": "markdown",
      "source": [
        "# Rakshak Software Programming Exercises"
      ],
      "metadata": {
        "id": "bh27bWZel1B2"
      }
    },
    {
      "cell_type": "markdown",
      "source": [
        "## 1 Conditionals and Loops"
      ],
      "metadata": {
        "id": "_xIh48swl8nG"
      }
    },
    {
      "cell_type": "markdown",
      "source": [
        "### 1.1 Exercise 1: FizzBuzz Implementation\n",
        "\n",
        "Write a Python program that prints the numbers from 1 to 100. But for multiples of three, print\n",
        " Fizz instead of the number, and for the multiples of five, print Buzz. For numbers which are\n",
        " multiples of both three and five, print FizzBuzz."
      ],
      "metadata": {
        "id": "qzTKMUpwmAU2"
      }
    },
    {
      "cell_type": "code",
      "execution_count": 2,
      "metadata": {
        "colab": {
          "base_uri": "https://localhost:8080/"
        },
        "id": "WU967yRrlx0I",
        "outputId": "819b8106-71f7-459d-ef66-28b9aad146cb"
      },
      "outputs": [
        {
          "output_type": "stream",
          "name": "stdout",
          "text": [
            "1\n",
            "2\n",
            "Fizz\n",
            "4\n",
            "Buzz\n",
            "Fizz\n",
            "7\n",
            "8\n",
            "Fizz\n",
            "Buzz\n",
            "11\n",
            "Fizz\n",
            "13\n",
            "14\n",
            "FizzBuzz\n",
            "16\n",
            "17\n",
            "Fizz\n",
            "19\n",
            "Buzz\n",
            "Fizz\n",
            "22\n",
            "23\n",
            "Fizz\n",
            "Buzz\n",
            "26\n",
            "Fizz\n",
            "28\n",
            "29\n",
            "FizzBuzz\n",
            "31\n",
            "32\n",
            "Fizz\n",
            "34\n",
            "Buzz\n",
            "Fizz\n",
            "37\n",
            "38\n",
            "Fizz\n",
            "Buzz\n",
            "41\n",
            "Fizz\n",
            "43\n",
            "44\n",
            "FizzBuzz\n",
            "46\n",
            "47\n",
            "Fizz\n",
            "49\n",
            "Buzz\n",
            "Fizz\n",
            "52\n",
            "53\n",
            "Fizz\n",
            "Buzz\n",
            "56\n",
            "Fizz\n",
            "58\n",
            "59\n",
            "FizzBuzz\n",
            "61\n",
            "62\n",
            "Fizz\n",
            "64\n",
            "Buzz\n",
            "Fizz\n",
            "67\n",
            "68\n",
            "Fizz\n",
            "Buzz\n",
            "71\n",
            "Fizz\n",
            "73\n",
            "74\n",
            "FizzBuzz\n",
            "76\n",
            "77\n",
            "Fizz\n",
            "79\n",
            "Buzz\n",
            "Fizz\n",
            "82\n",
            "83\n",
            "Fizz\n",
            "Buzz\n",
            "86\n",
            "Fizz\n",
            "88\n",
            "89\n",
            "FizzBuzz\n",
            "91\n",
            "92\n",
            "Fizz\n",
            "94\n",
            "Buzz\n",
            "Fizz\n",
            "97\n",
            "98\n",
            "Fizz\n",
            "Buzz\n"
          ]
        }
      ],
      "source": [
        "def fizzbuzz(n):\n",
        "    for i in range(1, n + 1):\n",
        "        if (i % 3 == 0 and i % 5 == 0):\n",
        "            print(\"FizzBuzz\")\n",
        "        elif (i % 3 == 0):\n",
        "            print(\"Fizz\")\n",
        "        elif (i % 5 == 0):\n",
        "            print(\"Buzz\")\n",
        "        else:\n",
        "            print(i)\n",
        "\n",
        "fizzbuzz(100)"
      ]
    },
    {
      "cell_type": "markdown",
      "source": [
        "### 1.2 Exercise 2: Prime Numbers within a Range\n",
        "\n",
        " Develop a Python function that takes two integers as input and returns a list of all prime numbers\n",
        " between those two numbers (inclusive). Utilize loops and conditional statements to determine\n",
        " prime numbers."
      ],
      "metadata": {
        "id": "JBLHiaQZmR4v"
      }
    },
    {
      "cell_type": "code",
      "source": [
        "def prime(m, n):\n",
        "    for i in range(m, n + 1):\n",
        "        for j in range(2, int(i**0.5+1)):\n",
        "            if i % j == 0:\n",
        "                break\n",
        "        else:\n",
        "            print(i)\n",
        "\n",
        "prime(2, 100)"
      ],
      "metadata": {
        "colab": {
          "base_uri": "https://localhost:8080/"
        },
        "id": "RrP4ekfrmUEG",
        "outputId": "6b18a159-1ec6-4e3f-bae8-9166f44bf4f2"
      },
      "execution_count": 3,
      "outputs": [
        {
          "output_type": "stream",
          "name": "stdout",
          "text": [
            "2\n",
            "3\n",
            "5\n",
            "7\n",
            "11\n",
            "13\n",
            "17\n",
            "19\n",
            "23\n",
            "29\n",
            "31\n",
            "37\n",
            "41\n",
            "43\n",
            "47\n",
            "53\n",
            "59\n",
            "61\n",
            "67\n",
            "71\n",
            "73\n",
            "79\n",
            "83\n",
            "89\n",
            "97\n"
          ]
        }
      ]
    },
    {
      "cell_type": "markdown",
      "source": [
        "## 2 NumPy Implementation"
      ],
      "metadata": {
        "id": "fV04WJuTmWLe"
      }
    },
    {
      "cell_type": "markdown",
      "source": [
        "### 2.1 Exercise 3: Matrix Operations\n",
        "\n",
        "Create two 3×3 NumPy arrays, A and B, with random integer values between 1 and 10. Perform\n",
        " the following operations:\n",
        " - Addition of matrices A and B.\n",
        " - Element-wise multiplication of A and B.\n",
        " - Compute the dot product of A and B.\n",
        " - Calculate the determinant of matrix A."
      ],
      "metadata": {
        "id": "n1cR8d_RmYUH"
      }
    },
    {
      "cell_type": "code",
      "source": [
        "import numpy as np\n",
        "\n",
        "A = np.random.randint(1, 11, (3, 3))\n",
        "B = np.random.randint(1, 11, (3, 3))\n",
        "\n",
        "print(\"\\nA:\\n\", A)\n",
        "print(\"\\nB:\\n\", B)\n",
        "\n",
        "print(\"\\nA + B:\\n\", A + B)\n",
        "print(\"\\nA * B:\\n\", A * B)\n",
        "\n",
        "print(\"\\nA dot B:\\n\", np.dot(A, B))\n",
        "\n",
        "print(\"\\nDeterminant of A:\\n\", np.linalg.det(A))"
      ],
      "metadata": {
        "colab": {
          "base_uri": "https://localhost:8080/"
        },
        "id": "35NpvL5pmX7E",
        "outputId": "7a87a65f-5975-421d-9f9a-467834e2fd7e"
      },
      "execution_count": 4,
      "outputs": [
        {
          "output_type": "stream",
          "name": "stdout",
          "text": [
            "\n",
            "A:\n",
            " [[10  4  2]\n",
            " [ 2  9  9]\n",
            " [ 1  3  3]]\n",
            "\n",
            "B:\n",
            " [[ 3  3  4]\n",
            " [ 4  4  9]\n",
            " [ 5 10 10]]\n",
            "\n",
            "A + B:\n",
            " [[13  7  6]\n",
            " [ 6 13 18]\n",
            " [ 6 13 13]]\n",
            "\n",
            "A * B:\n",
            " [[30 12  8]\n",
            " [ 8 36 81]\n",
            " [ 5 30 30]]\n",
            "\n",
            "A dot B:\n",
            " [[ 56  66  96]\n",
            " [ 87 132 179]\n",
            " [ 30  45  61]]\n",
            "\n",
            "Determinant of A:\n",
            " 5.999999999999971\n"
          ]
        }
      ]
    },
    {
      "cell_type": "markdown",
      "source": [
        "###  2.2 Exercise 4: Statistical Analysis\n",
        " Generate a NumPy array of 1000 random numbers drawn from a normal distribution with a\n",
        " mean of 50 and a standard deviation of 5. Compute the following statistics:\n",
        " - Mean\n",
        " - Median\n",
        " - Standard deviation\n",
        " - Variance\n",
        " - 25th and 75th percentiles"
      ],
      "metadata": {
        "id": "i9tADjRdmksf"
      }
    },
    {
      "cell_type": "code",
      "source": [
        "import numpy as np\n",
        "\n",
        "A = np.random.normal(50, 5, 1000)\n",
        "\n",
        "print(\"Mean: \", np.mean(A))\n",
        "print(\"Median: \", np.median(A))\n",
        "print(\"Standard Deviation: \", np.std(A))\n",
        "print(\"Variance: \", np.var(A))\n",
        "print(\"25th Percentile: \", np.percentile(A, 25))\n",
        "print(\"75th Percentile: \", np.percentile(A, 75))"
      ],
      "metadata": {
        "colab": {
          "base_uri": "https://localhost:8080/"
        },
        "id": "7ZqUt4gBmoTU",
        "outputId": "709a2525-859e-422f-b803-e3448941bae8"
      },
      "execution_count": 5,
      "outputs": [
        {
          "output_type": "stream",
          "name": "stdout",
          "text": [
            "Mean:  50.060937105255114\n",
            "Median:  50.085909211266376\n",
            "Standard Deviation:  4.92697332837315\n",
            "Variance:  24.275066178500396\n",
            "25th Percentile:  46.910835965527134\n",
            "75th Percentile:  53.171788045351164\n"
          ]
        }
      ]
    },
    {
      "cell_type": "markdown",
      "source": [
        "## Matplotlib Implementation"
      ],
      "metadata": {
        "id": "hWzKEhlAmr82"
      }
    },
    {
      "cell_type": "markdown",
      "source": [
        "###  3.1 Exercise 5: Data Visualization\n",
        " Using Matplotlib, create the following visualizations:\n",
        " - Aline plot representing the function f(x) = x2 for x ranging from-10 to 10.\n",
        " - Ascatter plot of 100 random points with x-coordinates drawn from a uniform distribution\n",
        " between 0 and 1, and y-coordinates drawn from a normal distribution with a mean of 0.5\n",
        " and a standard deviation of 0.1.\n",
        " - A histogram of 500 random numbers drawn from an exponential distribution with a rate\n",
        " parameter (λ) of 1."
      ],
      "metadata": {
        "id": "z9O4NGenmuNW"
      }
    },
    {
      "cell_type": "code",
      "source": [
        "import numpy as np\n",
        "import matplotlib.pyplot as plt\n",
        "\n",
        "X1 = np.arange(-10, 11)\n",
        "Y1 = X1**2\n",
        "\n",
        "X2 = np.random.uniform(0, 1, 100)\n",
        "Y2 = np.random.normal(0.5, 0.1, 100)\n",
        "\n",
        "X3 = np.random.exponential(1, 500)\n",
        "\n",
        "fig, ax = plt.subplots(1, 3, figsize=(15, 5))\n",
        "\n",
        "ax[0].plot(X1, Y1)\n",
        "ax[0].set_title(\"Y = X^2\")\n",
        "ax[0].set_xlabel(\"X\")\n",
        "ax[0].set_ylabel(\"Y\")\n",
        "\n",
        "ax[1].scatter(X2, Y2)\n",
        "ax[1].set_title(\"Y = Normal(0.5, 0.1), X = Uniform(0, 1)\")\n",
        "ax[1].set_xlabel(\"X\")\n",
        "ax[1].set_ylabel(\"Y\")\n",
        "\n",
        "ax[2].hist(X3, bins=20)\n",
        "ax[2].set_title(\"X = Exponential(1)\")\n",
        "ax[2].set_xlabel(\"X\")\n",
        "ax[2].set_ylabel(\"Frequency\")\n",
        "\n",
        "plt.show()"
      ],
      "metadata": {
        "colab": {
          "base_uri": "https://localhost:8080/",
          "height": 487
        },
        "id": "X_0eDd0smtyq",
        "outputId": "89f21559-3faa-412b-c199-fe99a99fcf20"
      },
      "execution_count": 24,
      "outputs": [
        {
          "output_type": "display_data",
          "data": {
            "text/plain": [
              "<Figure size 1500x500 with 3 Axes>"
            ],
            "image/png": "[encoded data removed]"
          },
          "metadata": {}
        }
      ]
    },
    {
      "cell_type": "markdown",
      "source": [
        "## 4 Pandas Implementation"
      ],
      "metadata": {
        "id": "SKCWmOlGmyYX"
      }
    },
    {
      "cell_type": "markdown",
      "source": [
        "### 4.1 Exercise 6: DataFrame Manipulation\n",
        " Create a Pandas DataFrame containing the following data:\n",
        "\n",
        " | Name   | Age | Salary  |\n",
        " |--------|-----|---------|\n",
        " | Alice  | 28  | 70000   |\n",
        " | Bob    | 34  | 80000   |\n",
        " | Charlie| 25  | 50000   |\n",
        " | Diana  | 42  | 110000  |\n",
        " | Ethan  | 30  | 75000   |\n",
        "\n",
        " Perform the following operations:\n",
        " - Add a new column, Tax, which is 20% of the Salary.\n",
        " - Filter the DataFrame to include only employees aged 30 and above.\n",
        " - Compute the average salary of employees aged below 30.\n",
        " - Sort the DataFrame by Salary in descending order."
      ],
      "metadata": {
        "id": "dnOh7n_rm1Xu"
      }
    },
    {
      "cell_type": "code",
      "source": [
        "import pandas as pd\n",
        "\n",
        "data = {\n",
        "    \"Name\": [\"Alice\", \"Bob\", \"Charlie\", \"Diana\", \"Ethan\"],\n",
        "    \"Age\": [28, 34, 25, 42, 30],\n",
        "    \"Salary\": [70000, 80000, 50000, 110000, 75000]\n",
        "}\n",
        "\n",
        "df = pd.DataFrame(data)\n",
        "df[\"Tax\"] = df[\"Salary\"] / 5\n",
        "\n",
        "print(df, '\\n')\n",
        "\n",
        "filtered_df = df[df[\"Age\"] >= 30]\n",
        "print(filtered_df, '\\n')\n",
        "\n",
        "avg_salary = df[df[\"Age\"] < 30][\"Salary\"].mean()\n",
        "print(\"Average salary for people under 30:\", avg_salary, '\\n')\n",
        "\n",
        "sorted_df = df.sort_values(by=\"Salary\", ascending=False).reset_index(drop=True)\n",
        "print(sorted_df)"
      ],
      "metadata": {
        "colab": {
          "base_uri": "https://localhost:8080/"
        },
        "id": "Q8cWuDjWm075",
        "outputId": "94706130-8df8-4ceb-c8f9-9a9c76ce0a03"
      },
      "execution_count": 25,
      "outputs": [
        {
          "output_type": "stream",
          "name": "stdout",
          "text": [
            "      Name  Age  Salary      Tax\n",
            "0    Alice   28   70000  14000.0\n",
            "1      Bob   34   80000  16000.0\n",
            "2  Charlie   25   50000  10000.0\n",
            "3    Diana   42  110000  22000.0\n",
            "4    Ethan   30   75000  15000.0 \n",
            "\n",
            "    Name  Age  Salary      Tax\n",
            "1    Bob   34   80000  16000.0\n",
            "3  Diana   42  110000  22000.0\n",
            "4  Ethan   30   75000  15000.0 \n",
            "\n",
            "Average salary for people under 30: 60000.0 \n",
            "\n",
            "      Name  Age  Salary      Tax\n",
            "0    Diana   42  110000  22000.0\n",
            "1      Bob   34   80000  16000.0\n",
            "2    Ethan   30   75000  15000.0\n",
            "3    Alice   28   70000  14000.0\n",
            "4  Charlie   25   50000  10000.0\n"
          ]
        }
      ]
    },
    {
      "cell_type": "markdown",
      "source": [
        "## 5 Time Series"
      ],
      "metadata": {
        "id": "c_c_XDS4m6wm"
      }
    },
    {
      "cell_type": "markdown",
      "source": [
        "### 5.1 Exercise 7: Time Series Analysis\n",
        " Using Pandas, perform the following tasks:\n",
        " - Create a time series representing daily temperatures (in Celsius) for the month of January 2025. Assume the temperature follows a sinusoidal pattern with an average of 15◦C and\n",
        " an amplitude of 10◦C.\n",
        " - Plot the time series using Matplotlib.\n",
        " - Compute a 7-day rolling average of the temperature and plot it on the same graph.\n",
        " - Identify the days when the temperature was above 20◦C."
      ],
      "metadata": {
        "id": "1a8W3y1km89e"
      }
    },
    {
      "cell_type": "code",
      "source": [
        "import pandas as pd\n",
        "import matplotlib.pyplot as plt\n",
        "import math\n",
        "\n",
        "Day = pd.Series(range(1, 32))\n",
        "Temp = 15 + 10 * pd.Series([math.sin(2 * math.pi * x / 31) for x in Day])\n",
        "\n",
        "Data = pd.DataFrame({\"Day\": Day, \"Temp\": Temp})\n",
        "\n",
        "fig, ax = plt.subplots(1, 1)\n",
        "ax.plot(Data[\"Day\"], Data[\"Temp\"])\n",
        "ax.set_xlabel(\"Day\")\n",
        "ax.set_ylabel(\"Temp\")\n",
        "\n",
        "ax.plot(Data[\"Day\"], Data[\"Temp\"].rolling(7, center=True).mean())\n",
        "\n",
        "ax.scatter(Data[Data[\"Temp\"]>20][\"Day\"], Data[Data[\"Temp\"]>20][\"Temp\"], marker='*', color='red', s=50)\n",
        "\n",
        "plt.show()"
      ],
      "metadata": {
        "colab": {
          "base_uri": "https://localhost:8080/",
          "height": 449
        },
        "id": "LgyhYP1Rm8le",
        "outputId": "feff84cb-0f85-46a5-b80e-098978d8f28e"
      },
      "execution_count": 26,
      "outputs": [
        {
          "output_type": "display_data",
          "data": {
            "text/plain": [
              "<Figure size 640x480 with 1 Axes>"
            ],
            "image/png": "[encoded data removed]"
          },
          "metadata": {}
        }
      ]
    }
  ]
}