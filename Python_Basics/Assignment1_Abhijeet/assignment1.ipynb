{
 "cells": [
  {
   "cell_type": "code",
   "execution_count": null,
   "metadata": {},
   "outputs": [],
   "source": [
    "import numpy as np"
   ]
  },
  {
   "cell_type": "code",
   "execution_count": null,
   "metadata": {},
   "outputs": [],
   "source": [
    "#Exercise 1\n",
    "i=1\n",
    "while(i<=100):\n",
    "    if(i%3==0):\n",
    "        if(i%5==0):\n",
    "            print(\"FizzBuzz\")\n",
    "        else:\n",
    "            print(\"Fizz\")\n",
    "    elif(i%5==0):\n",
    "        if(i%3==0):\n",
    "            print(\"FizzBuzz\")\n",
    "        else:\n",
    "            print(\"Buzz\")\n",
    "    else:\n",
    "        print(i)\n",
    "    i+=1\n"
   ]
  },
  {
   "cell_type": "code",
   "execution_count": null,
   "metadata": {},
   "outputs": [],
   "source": [
    "#Exercise 2\n",
    "n1=int(input())\n",
    "n2=int(input())\n",
    "if(n2>n1):\n",
    "    i=n1\n",
    "elif(n1>n2):\n",
    "    i=n2\n",
    "else:\n",
    "    print(\"provide distinct numbers\")\n",
    "while(i<n2+1):\n",
    "    prime=True\n",
    "    for j in range(2,i):\n",
    "        if(i%j==0):\n",
    "            prime=False\n",
    "            break\n",
    "        j+=1\n",
    "    if(prime==True):\n",
    "        print(i)\n",
    "    i+=1\n",
    "    \n",
    "    "
   ]
  },
  {
   "cell_type": "code",
   "execution_count": null,
   "metadata": {},
   "outputs": [],
   "source": [
    "#Exercise 3\n",
    "A = np.random.randint(1, 11, (3, 3))\n",
    "B = np.random.randint(1, 11, (3, 3))\n",
    "print(\"A=\",A)\n",
    "print(\"B=\",B)\n",
    "add = np.zeros((3,3))\n",
    "elemprod=np.zeros((3,3))\n",
    "prod = np.zeros((3,3))\n",
    "for i in range(0,3):\n",
    "    for j in range(0,3):\n",
    "        add[i,j]=A[i,j]+B[i,j]\n",
    "print(\"sum=\",add)\n",
    "for i in range(0,3):\n",
    "    for j in range(0,3):\n",
    "        elemprod[i,j]=A[i,j]*B[i,j]\n",
    "print(\"Element wise multiplication\",elemprod)\n",
    "for i in range(0,3):\n",
    "    for j in range(0,3):\n",
    "        temp=0\n",
    "        for k in range(0,3):\n",
    "            temp+=(A[i,k]*B[k,j])\n",
    "        prod[i,j]=temp\n",
    "print(\"product=\",prod)\n",
    "def determinant(matrix):\n",
    "    n = len(matrix)\n",
    "    if n == 1:\n",
    "        return matrix[0][0]\n",
    "    if n == 2:\n",
    "        return matrix[0][0] * matrix[1][1] - matrix[0][1] * matrix[1][0]\n",
    "    det = 0\n",
    "    for j in range(n):\n",
    "        minor = np.delete(matrix, 0, axis=0)  # Remove first row\n",
    "        minor = np.delete(minor, j, axis=1)   # Remove column j\n",
    "        det += ((-1) ** j) * matrix[0][j] * determinant(minor)\n",
    "    return det\n",
    "print(\"Det(A)=\",determinant(A))"
   ]
  },
  {
   "cell_type": "code",
   "execution_count": null,
   "metadata": {},
   "outputs": [],
   "source": [
    "#Exercise 4\n",
    "arr=np.random.normal(loc=50, scale=5, size=1000)\n",
    "print(\"mean=\",np.mean(arr))\n",
    "print(\"median=\",np.median(arr))\n",
    "print(\"standard deviation=\",np.std(arr))\n",
    "print(\"variance=\",np.var(arr))\n",
    "print(\"25th %ile=\",np.percentile(arr,25))\n",
    "print(\"75th %ile=\",np.percentile(arr,75))"
   ]
  },
  {
   "cell_type": "code",
   "execution_count": null,
   "metadata": {},
   "outputs": [],
   "source": [
    "#Exercise 5\n",
    "import matplotlib.pyplot as plt\n",
    "t=np.arange(-10.,10.,0.01)\n",
    "plt.plot(t,t**2,-10,10)\n",
    "x = np.random.uniform(0, 1, 100)\n",
    "y = np.random.normal(0.5, 0.1, 100)\n",
    "plt.figure()\n",
    "plt.plot(x,y)\n",
    "lambdaa=1\n",
    "exp = np.random.exponential(scale=1/lambdaa,size=500)\n",
    "plt.figure()\n",
    "plt.plot(exp)"
   ]
  },
  {
   "cell_type": "code",
   "execution_count": null,
   "metadata": {},
   "outputs": [],
   "source": [
    "#Exercise 6\n",
    "import pandas as pd\n",
    "data = {\n",
    "    \"Name\": [\"Alice\", \"Bob\", \"Charlie\", \"Diana\", \"Ethan\"],\n",
    "    \"Age\": [28, 34, 25, 42, 30],\n",
    "    \"Salary\": [70000, 80000, 50000, 110000, 75000]\n",
    "}\n",
    "df=pd.DataFrame(data)\n",
    "df[\"Tax\"]=df[\"Salary\"]*0.20\n",
    "above30=df[df[\"Age\"]>=30]\n",
    "avgsal_below30=df[df[\"Age\"]<30][\"Salary\"].mean\n",
    "sorted=df.sort_values(by=\"Salary\",ascending=False)\n",
    "print(\"Tax table\\n\",df)\n",
    "print(\"\\nTable of age>=30\\n\",above30)\n",
    "print(\"\\navg sal below 30yrs age=\", avgsal_below30)\n",
    "print(\"\\nsorted data\\n\",sorted)"
   ]
  },
  {
   "cell_type": "code",
   "execution_count": null,
   "metadata": {},
   "outputs": [],
   "source": [
    "#Exercise 7\n",
    "dates=pd.date_range(start='2025-01-01',end='2025-01-31')\n",
    "avg=15\n",
    "amp=10\n",
    "days=np.arange(31)\n",
    "tempr = avg + amp*np.sin(2*np.pi*days/31)\n",
    "temp_data=pd.DataFrame({\"Date\":dates,\"Temp\":tempr})\n",
    "temp_data[\"7Day\"]=temp_data[\"Temp\"].rolling(window=7).mean()\n",
    "temp_20 = temp_data[temp_data[\"Temp\"]>20]\n",
    "plt.figure()\n",
    "plt.plot(temp_data[\"Date\"],temp_data[\"Temp\"],marker=\"o\")\n",
    "plt.plot(temp_data[\"Date\"],temp_data[\"7Day\"],linestyle=\"--\")\n",
    "print(\"Temp above 20 degeree celcius:\", temp_20)\n"
   ]
  }
 ],
 "metadata": {
  "kernelspec": {
   "display_name": "base",
   "language": "python",
   "name": "python3"
  },
  "language_info": {
   "codemirror_mode": {
    "name": "ipython",
    "version": 3
   },
   "file_extension": ".py",
   "mimetype": "text/x-python",
   "name": "python",
   "nbconvert_exporter": "python",
   "pygments_lexer": "ipython3",
   "version": "3.12.7"
  }
 },
 "nbformat": 4,
 "nbformat_minor": 2
}
